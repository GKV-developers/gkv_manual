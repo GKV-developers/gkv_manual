{
 "cells": [
  {
   "cell_type": "markdown",
   "id": "8c8a9fec-e08c-42f3-b2d9-00e1f944eb02",
   "metadata": {},
   "source": [
    "# Pythonの基本の関数と変数、制御文\n",
    "---\n",
    "\n",
    "### (i) 画面への出力\n",
    "print関数を用いる\n",
    "### (ii) ファイルへの出力\n",
    "テキストファイルを書き込み属性で開き、\n",
    "print関数のオプション変数 file にファイル名を指定する。"
   ]
  },
  {
   "cell_type": "code",
   "execution_count": null,
   "id": "cc0fda0b-d8d2-42ea-a4f8-539ba0398747",
   "metadata": {},
   "outputs": [],
   "source": [
    "print(\"Hello world !\")"
   ]
  },
  {
   "cell_type": "code",
   "execution_count": null,
   "id": "3cfc7d36-be0d-480d-a220-42f0aa4c8856",
   "metadata": {},
   "outputs": [],
   "source": [
    "f = open(\"output.txt\",mode=\"w\")\n",
    "print(\"Hello world!\", \"to the file\", file=f)\n",
    "f.close()"
   ]
  },
  {
   "cell_type": "markdown",
   "id": "417f1370-9b6d-426c-8764-07faea08f0e9",
   "metadata": {},
   "source": [
    "### (iii) 関数のヘルプを開く"
   ]
  },
  {
   "cell_type": "code",
   "execution_count": null,
   "id": "6943c572-7c4d-4f2e-b082-bda1a733fdbb",
   "metadata": {},
   "outputs": [],
   "source": [
    "help(open)"
   ]
  },
  {
   "cell_type": "markdown",
   "id": "636c9926-d977-4e88-a169-a282dda9b588",
   "metadata": {},
   "source": [
    "### (iv) Pythonにおける変数の取り扱い\n",
    "- 事前の型宣言は必要ない。代入の際に動的に割り付けられる。\n",
    "- あるデータ型を扱っていた変数名を、別のデータ型を上書きすることもできる。\n",
    "- データ型の確認には type 関数を用いる。\n",
    "- Python3では、（整数型）と（整数型）の割り算は自動型変換により実数になる。"
   ]
  },
  {
   "cell_type": "code",
   "execution_count": null,
   "id": "03bdbba8-a71a-46f5-a804-980988e03b29",
   "metadata": {},
   "outputs": [],
   "source": [
    "a = 5 + 6\n",
    "print(a, type(a))\n",
    "a = \"word\"\n",
    "print(a, type(a))\n",
    "x = 8 / 5\n",
    "print(x, type(x))"
   ]
  },
  {
   "cell_type": "markdown",
   "id": "ea66ef6d-9e7a-42fe-a352-73d1ebfd23ce",
   "metadata": {},
   "source": [
    "### (v) 制御文\n",
    "- 条件分岐: if-elif-else\n",
    "- ループ: for, while と ループ制御: break, continue"
   ]
  },
  {
   "cell_type": "code",
   "execution_count": null,
   "id": "7ef9183b-2e4f-47d0-be9a-767598982291",
   "metadata": {},
   "outputs": [],
   "source": [
    "c = \"afternoon\"\n",
    "if c == \"morning\":\n",
    "    print(\"朝\")\n",
    "elif c == \"afternoon\":\n",
    "    print(\"昼\")\n",
    "else:\n",
    "    print(\"夜\")"
   ]
  },
  {
   "cell_type": "code",
   "execution_count": null,
   "id": "81b56b64-04b6-4deb-8564-6f91f86a49c6",
   "metadata": {},
   "outputs": [],
   "source": [
    "a=0\n",
    "for i in range(10): # forを利用したループ\n",
    "    if i==2:\n",
    "        print(\"# i=2 is skipped\")\n",
    "        continue  # 処理を中断してループの先頭に戻る\n",
    "    a += i\n",
    "    print(\"i=\",i,\", a=\",a)\n",
    "    if i>6:\n",
    "        print(\"# When i>6, break the loop\")\n",
    "        break     # 処理を中断してループから抜け出す"
   ]
  },
  {
   "cell_type": "markdown",
   "id": "e6e6b3e2-419e-40ee-aef8-ade7c41bc131",
   "metadata": {},
   "source": [
    "### (vi) インデント記法\n",
    "Pythonでは、インデント(字下げ)により構文の範囲を決める。{...}やend文で構文の範囲を決め、インデントは自由だったCやFortranとの大きな違い。"
   ]
  },
  {
   "cell_type": "code",
   "execution_count": null,
   "id": "86b3abd6-1566-4681-8a34-34eb5314ddcc",
   "metadata": {},
   "outputs": [],
   "source": [
    "a=0\n",
    "for i in range(3):\n",
    "    print(\"i=\",i)\n",
    "    a += 1  #　ここまでがループ\n",
    "print(\"a=\",a)"
   ]
  },
  {
   "cell_type": "code",
   "execution_count": null,
   "id": "b96360e9-2fa6-4d71-a54f-74182e03949f",
   "metadata": {
    "scrolled": true
   },
   "outputs": [],
   "source": [
    "a=0\n",
    "for i in range(3):\n",
    "    print(\"i=\",i)\n",
    "    a += 1    \n",
    "    print(\"a=\",a)#　ここまでがループ "
   ]
  },
  {
   "cell_type": "code",
   "execution_count": null,
   "id": "506c7635-44bb-4edc-8a62-f73524efe1c0",
   "metadata": {
    "scrolled": true
   },
   "outputs": [],
   "source": []
  },
  {
   "cell_type": "markdown",
   "id": "e47759bb-35b9-492f-9e9e-f78437f4210a",
   "metadata": {},
   "source": [
    "# リスト\n",
    "---\n",
    "\n",
    "リストは、順序付きのオブジェクトの集まりである。各要素となるオブジェクトは異なる型をとることができる。  \n",
    "len関数・・・リストの長さを表示"
   ]
  },
  {
   "cell_type": "code",
   "execution_count": null,
   "id": "e975ab39-b8b6-48d4-94bb-afe95a8d4ee3",
   "metadata": {},
   "outputs": [],
   "source": [
    "l = [ 1, 2, 3, 8, 1.5, \"word\", [1,2] ]\n",
    "print(l)\n",
    "print(type(l))\n",
    "print(len(l))\n",
    "print(l[6])"
   ]
  },
  {
   "cell_type": "markdown",
   "id": "c83528f1-3e3f-4edf-a465-3ee03ccdf780",
   "metadata": {},
   "source": [
    "### スライス\n",
    "・・・リストの一部を取り出す。l[start:stop:step]\n",
    "\n",
    "- Pythonでは、 l[start:stop] はインデックス start <= i < stop を返す。l[stop] は含まない。\n",
    "- 最初から l[:stop:step] や、最後まで l[start::step] のような省略が可能。\n",
    "- 負のインデックスは末尾から数える。"
   ]
  },
  {
   "cell_type": "code",
   "execution_count": null,
   "id": "9ccd2c29-034e-461c-a345-1dc8eae900ed",
   "metadata": {},
   "outputs": [],
   "source": [
    "print(l[0:3])  # 0 <= i < 3 の要素を取り出す"
   ]
  },
  {
   "cell_type": "code",
   "execution_count": null,
   "id": "4247bad2-c4fe-4541-bde4-391f1a3d9447",
   "metadata": {},
   "outputs": [],
   "source": [
    "print(l[0:8:2]) # step=2のインクリメントで、0 <= i < 8までの要素を取り出す。"
   ]
  },
  {
   "cell_type": "code",
   "execution_count": null,
   "id": "4dce6304-703b-49d1-8a47-d81fc7047fdc",
   "metadata": {},
   "outputs": [],
   "source": [
    "print(l[:3])    # 最初から i < 3 まで\n",
    "print(l[3:])    # 3 <= i から最後まで"
   ]
  },
  {
   "cell_type": "code",
   "execution_count": null,
   "id": "bd0d7f80-ab1b-43b5-b3c9-ce2d26870770",
   "metadata": {},
   "outputs": [],
   "source": [
    "#負のインデックスは末尾から数える。\n",
    "print(l[-1])\n",
    "print(l[-3])\n",
    "print(l[-5::3])"
   ]
  },
  {
   "cell_type": "code",
   "execution_count": null,
   "id": "6d3bb808-f6b1-4545-b554-8b7102075516",
   "metadata": {},
   "outputs": [],
   "source": [
    "#ループ方法1:インデックスを数える\n",
    "for i in range(len(l)):\n",
    "    print(l[i])\n",
    "#ループ方法2:リストの要素に対してもループできる\n",
    "for x in l:\n",
    "    print(x)"
   ]
  }
 ],
 "metadata": {
  "kernelspec": {
   "display_name": "Python 3 (ipykernel)",
   "language": "python",
   "name": "python3"
  },
  "language_info": {
   "codemirror_mode": {
    "name": "ipython",
    "version": 3
   },
   "file_extension": ".py",
   "mimetype": "text/x-python",
   "name": "python",
   "nbconvert_exporter": "python",
   "pygments_lexer": "ipython3",
   "version": "3.13.3"
  }
 },
 "nbformat": 4,
 "nbformat_minor": 5
}
