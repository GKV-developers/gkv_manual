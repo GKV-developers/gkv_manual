{
 "cells": [
  {
   "cell_type": "markdown",
   "id": "8c8a9fec-e08c-42f3-b2d9-00e1f944eb02",
   "metadata": {},
   "source": [
    "# Pythonの基本の関数と変数、制御文\n",
    "---\n",
    "\n",
    "### (i) 画面への出力\n",
    "print関数を用いる\n",
    "### (ii) ファイルへの出力\n",
    "テキストファイルを書き込み属性で開き、\n",
    "print関数のオプション変数 file にファイル名を指定する。"
   ]
  },
  {
   "cell_type": "code",
   "execution_count": 1,
   "id": "cc0fda0b-d8d2-42ea-a4f8-539ba0398747",
   "metadata": {},
   "outputs": [
    {
     "name": "stdout",
     "output_type": "stream",
     "text": [
      "Hello world !\n"
     ]
    }
   ],
   "source": [
    "print(\"Hello world !\")"
   ]
  },
  {
   "cell_type": "code",
   "execution_count": 2,
   "id": "3cfc7d36-be0d-480d-a220-42f0aa4c8856",
   "metadata": {},
   "outputs": [],
   "source": [
    "f = open(\"output.txt\",mode=\"w\")\n",
    "print(\"Hello world!\", \"to the file\", file=f)\n",
    "f.close()"
   ]
  },
  {
   "cell_type": "markdown",
   "id": "417f1370-9b6d-426c-8764-07faea08f0e9",
   "metadata": {},
   "source": [
    "### (iii) 関数のヘルプを開く"
   ]
  },
  {
   "cell_type": "code",
   "execution_count": 3,
   "id": "6943c572-7c4d-4f2e-b082-bda1a733fdbb",
   "metadata": {},
   "outputs": [
    {
     "name": "stdout",
     "output_type": "stream",
     "text": [
      "Help on function open in module _io:\n",
      "\n",
      "open(\n",
      "    file,\n",
      "    mode='r',\n",
      "    buffering=-1,\n",
      "    encoding=None,\n",
      "    errors=None,\n",
      "    newline=None,\n",
      "    closefd=True,\n",
      "    opener=None\n",
      ")\n",
      "    Open file and return a stream.  Raise OSError upon failure.\n",
      "\n",
      "    file is either a text or byte string giving the name (and the path\n",
      "    if the file isn't in the current working directory) of the file to\n",
      "    be opened or an integer file descriptor of the file to be\n",
      "    wrapped. (If a file descriptor is given, it is closed when the\n",
      "    returned I/O object is closed, unless closefd is set to False.)\n",
      "\n",
      "    mode is an optional string that specifies the mode in which the file\n",
      "    is opened. It defaults to 'r' which means open for reading in text\n",
      "    mode.  Other common values are 'w' for writing (truncating the file if\n",
      "    it already exists), 'x' for creating and writing to a new file, and\n",
      "    'a' for appending (which on some Unix systems, means that all writes\n",
      "    append to the end of the file regardless of the current seek position).\n",
      "    In text mode, if encoding is not specified the encoding used is platform\n",
      "    dependent: locale.getencoding() is called to get the current locale encoding.\n",
      "    (For reading and writing raw bytes use binary mode and leave encoding\n",
      "    unspecified.) The available modes are:\n",
      "\n",
      "    ========= ===============================================================\n",
      "    Character Meaning\n",
      "    --------- ---------------------------------------------------------------\n",
      "    'r'       open for reading (default)\n",
      "    'w'       open for writing, truncating the file first\n",
      "    'x'       create a new file and open it for writing\n",
      "    'a'       open for writing, appending to the end of the file if it exists\n",
      "    'b'       binary mode\n",
      "    't'       text mode (default)\n",
      "    '+'       open a disk file for updating (reading and writing)\n",
      "    ========= ===============================================================\n",
      "\n",
      "    The default mode is 'rt' (open for reading text). For binary random\n",
      "    access, the mode 'w+b' opens and truncates the file to 0 bytes, while\n",
      "    'r+b' opens the file without truncation. The 'x' mode implies 'w' and\n",
      "    raises an `FileExistsError` if the file already exists.\n",
      "\n",
      "    Python distinguishes between files opened in binary and text modes,\n",
      "    even when the underlying operating system doesn't. Files opened in\n",
      "    binary mode (appending 'b' to the mode argument) return contents as\n",
      "    bytes objects without any decoding. In text mode (the default, or when\n",
      "    't' is appended to the mode argument), the contents of the file are\n",
      "    returned as strings, the bytes having been first decoded using a\n",
      "    platform-dependent encoding or using the specified encoding if given.\n",
      "\n",
      "    buffering is an optional integer used to set the buffering policy.\n",
      "    Pass 0 to switch buffering off (only allowed in binary mode), 1 to select\n",
      "    line buffering (only usable in text mode), and an integer > 1 to indicate\n",
      "    the size of a fixed-size chunk buffer.  When no buffering argument is\n",
      "    given, the default buffering policy works as follows:\n",
      "\n",
      "    * Binary files are buffered in fixed-size chunks; the size of the buffer\n",
      "      is chosen using a heuristic trying to determine the underlying device's\n",
      "      \"block size\" and falling back on `io.DEFAULT_BUFFER_SIZE`.\n",
      "      On many systems, the buffer will typically be 4096 or 8192 bytes long.\n",
      "\n",
      "    * \"Interactive\" text files (files for which isatty() returns True)\n",
      "      use line buffering.  Other text files use the policy described above\n",
      "      for binary files.\n",
      "\n",
      "    encoding is the name of the encoding used to decode or encode the\n",
      "    file. This should only be used in text mode. The default encoding is\n",
      "    platform dependent, but any encoding supported by Python can be\n",
      "    passed.  See the codecs module for the list of supported encodings.\n",
      "\n",
      "    errors is an optional string that specifies how encoding errors are to\n",
      "    be handled---this argument should not be used in binary mode. Pass\n",
      "    'strict' to raise a ValueError exception if there is an encoding error\n",
      "    (the default of None has the same effect), or pass 'ignore' to ignore\n",
      "    errors. (Note that ignoring encoding errors can lead to data loss.)\n",
      "    See the documentation for codecs.register or run 'help(codecs.Codec)'\n",
      "    for a list of the permitted encoding error strings.\n",
      "\n",
      "    newline controls how universal newlines works (it only applies to text\n",
      "    mode). It can be None, '', '\\n', '\\r', and '\\r\\n'.  It works as\n",
      "    follows:\n",
      "\n",
      "    * On input, if newline is None, universal newlines mode is\n",
      "      enabled. Lines in the input can end in '\\n', '\\r', or '\\r\\n', and\n",
      "      these are translated into '\\n' before being returned to the\n",
      "      caller. If it is '', universal newline mode is enabled, but line\n",
      "      endings are returned to the caller untranslated. If it has any of\n",
      "      the other legal values, input lines are only terminated by the given\n",
      "      string, and the line ending is returned to the caller untranslated.\n",
      "\n",
      "    * On output, if newline is None, any '\\n' characters written are\n",
      "      translated to the system default line separator, os.linesep. If\n",
      "      newline is '' or '\\n', no translation takes place. If newline is any\n",
      "      of the other legal values, any '\\n' characters written are translated\n",
      "      to the given string.\n",
      "\n",
      "    If closefd is False, the underlying file descriptor will be kept open\n",
      "    when the file is closed. This does not work when a file name is given\n",
      "    and must be True in that case.\n",
      "\n",
      "    A custom opener can be used by passing a callable as *opener*. The\n",
      "    underlying file descriptor for the file object is then obtained by\n",
      "    calling *opener* with (*file*, *flags*). *opener* must return an open\n",
      "    file descriptor (passing os.open as *opener* results in functionality\n",
      "    similar to passing None).\n",
      "\n",
      "    open() returns a file object whose type depends on the mode, and\n",
      "    through which the standard file operations such as reading and writing\n",
      "    are performed. When open() is used to open a file in a text mode ('w',\n",
      "    'r', 'wt', 'rt', etc.), it returns a TextIOWrapper. When used to open\n",
      "    a file in a binary mode, the returned class varies: in read binary\n",
      "    mode, it returns a BufferedReader; in write binary and append binary\n",
      "    modes, it returns a BufferedWriter, and in read/write mode, it returns\n",
      "    a BufferedRandom.\n",
      "\n",
      "    It is also possible to use a string or bytearray as a file for both\n",
      "    reading and writing. For strings StringIO can be used like a file\n",
      "    opened in a text mode, and for bytes a BytesIO can be used like a file\n",
      "    opened in a binary mode.\n",
      "\n"
     ]
    }
   ],
   "source": [
    "help(open)"
   ]
  },
  {
   "cell_type": "markdown",
   "id": "636c9926-d977-4e88-a169-a282dda9b588",
   "metadata": {},
   "source": [
    "### (iv) Pythonにおける変数の取り扱い\n",
    "- 事前の型宣言は必要ない。代入の際に動的に割り付けられる。\n",
    "- あるデータ型を扱っていた変数名を、別のデータ型を上書きすることもできる。\n",
    "- データ型の確認には type 関数を用いる。\n",
    "- Python3では、（整数型）と（整数型）の割り算は自動型変換により実数になる。"
   ]
  },
  {
   "cell_type": "code",
   "execution_count": 4,
   "id": "03bdbba8-a71a-46f5-a804-980988e03b29",
   "metadata": {},
   "outputs": [
    {
     "name": "stdout",
     "output_type": "stream",
     "text": [
      "11 <class 'int'>\n",
      "word <class 'str'>\n",
      "1.6 <class 'float'>\n"
     ]
    }
   ],
   "source": [
    "a = 5 + 6\n",
    "print(a, type(a))\n",
    "a = \"word\"\n",
    "print(a, type(a))\n",
    "x = 8 / 5\n",
    "print(x, type(x))"
   ]
  },
  {
   "cell_type": "markdown",
   "id": "ea66ef6d-9e7a-42fe-a352-73d1ebfd23ce",
   "metadata": {},
   "source": [
    "### (v) 制御文\n",
    "- 条件分岐: if-elif-else\n",
    "- ループ: for, while と ループ制御: break, continue"
   ]
  },
  {
   "cell_type": "code",
   "execution_count": 5,
   "id": "7ef9183b-2e4f-47d0-be9a-767598982291",
   "metadata": {},
   "outputs": [
    {
     "name": "stdout",
     "output_type": "stream",
     "text": [
      "昼\n"
     ]
    }
   ],
   "source": [
    "c = \"afternoon\"\n",
    "if c == \"morning\":\n",
    "    print(\"朝\")\n",
    "elif c == \"afternoon\":\n",
    "    print(\"昼\")\n",
    "else:\n",
    "    print(\"夜\")"
   ]
  },
  {
   "cell_type": "code",
   "execution_count": 6,
   "id": "81b56b64-04b6-4deb-8564-6f91f86a49c6",
   "metadata": {},
   "outputs": [
    {
     "name": "stdout",
     "output_type": "stream",
     "text": [
      "i= 0 , a= 0\n",
      "i= 1 , a= 1\n",
      "# i=2 is skipped\n",
      "i= 3 , a= 4\n",
      "i= 4 , a= 8\n",
      "i= 5 , a= 13\n",
      "i= 6 , a= 19\n",
      "i= 7 , a= 26\n",
      "# When i>6, break the loop\n"
     ]
    }
   ],
   "source": [
    "a=0\n",
    "for i in range(10): # forを利用したループ\n",
    "    if i==2:\n",
    "        print(\"# i=2 is skipped\")\n",
    "        continue  # 処理を中断してループの先頭に戻る\n",
    "    a += i\n",
    "    print(\"i=\",i,\", a=\",a)\n",
    "    if i>6:\n",
    "        print(\"# When i>6, break the loop\")\n",
    "        break     # 処理を中断してループから抜け出す"
   ]
  },
  {
   "cell_type": "markdown",
   "id": "e6e6b3e2-419e-40ee-aef8-ade7c41bc131",
   "metadata": {},
   "source": [
    "### (vi) インデント記法\n",
    "Pythonでは、インデント(字下げ)により構文の範囲を決める。{...}やend文で構文の範囲を決め、インデントは自由だったCやFortranとの大きな違い。"
   ]
  },
  {
   "cell_type": "code",
   "execution_count": 7,
   "id": "86b3abd6-1566-4681-8a34-34eb5314ddcc",
   "metadata": {},
   "outputs": [
    {
     "name": "stdout",
     "output_type": "stream",
     "text": [
      "i= 0\n",
      "i= 1\n",
      "i= 2\n",
      "a= 3\n"
     ]
    }
   ],
   "source": [
    "a=0\n",
    "for i in range(3):\n",
    "    print(\"i=\",i)\n",
    "    a += 1  #　ここまでがループ\n",
    "print(\"a=\",a)"
   ]
  },
  {
   "cell_type": "code",
   "execution_count": 8,
   "id": "b96360e9-2fa6-4d71-a54f-74182e03949f",
   "metadata": {
    "scrolled": true
   },
   "outputs": [
    {
     "name": "stdout",
     "output_type": "stream",
     "text": [
      "i= 0\n",
      "a= 1\n",
      "i= 1\n",
      "a= 2\n",
      "i= 2\n",
      "a= 3\n"
     ]
    }
   ],
   "source": [
    "a=0\n",
    "for i in range(3):\n",
    "    print(\"i=\",i)\n",
    "    a += 1    \n",
    "    print(\"a=\",a)#　ここまでがループ "
   ]
  },
  {
   "cell_type": "code",
   "execution_count": null,
   "id": "506c7635-44bb-4edc-8a62-f73524efe1c0",
   "metadata": {
    "scrolled": true
   },
   "outputs": [],
   "source": []
  },
  {
   "cell_type": "markdown",
   "id": "e47759bb-35b9-492f-9e9e-f78437f4210a",
   "metadata": {},
   "source": [
    "# リスト\n",
    "---\n",
    "\n",
    "リストは、順序付きのオブジェクトの集まりである。各要素となるオブジェクトは異なる型をとることができる。  \n",
    "len関数・・・リストの長さを表示"
   ]
  },
  {
   "cell_type": "code",
   "execution_count": 9,
   "id": "e975ab39-b8b6-48d4-94bb-afe95a8d4ee3",
   "metadata": {},
   "outputs": [
    {
     "name": "stdout",
     "output_type": "stream",
     "text": [
      "[1, 2, 3, 8, 1.5, 'word', [1, 2]]\n",
      "<class 'list'>\n",
      "7\n",
      "[1, 2]\n"
     ]
    }
   ],
   "source": [
    "l = [ 1, 2, 3, 8, 1.5, \"word\", [1,2] ]\n",
    "print(l)\n",
    "print(type(l))\n",
    "print(len(l))\n",
    "print(l[6])"
   ]
  },
  {
   "cell_type": "markdown",
   "id": "c83528f1-3e3f-4edf-a465-3ee03ccdf780",
   "metadata": {},
   "source": [
    "### スライス\n",
    "・・・リストの一部を取り出す。l[start:stop:step]\n",
    "\n",
    "- Pythonでは、 l[start:stop] はインデックス start <= i < stop を返す。l[stop] は含まない。\n",
    "- 最初から l[:stop:step] や、最後まで l[start::step] のような省略が可能。\n",
    "- 負のインデックスは末尾から数える。"
   ]
  },
  {
   "cell_type": "code",
   "execution_count": 10,
   "id": "9ccd2c29-034e-461c-a345-1dc8eae900ed",
   "metadata": {},
   "outputs": [
    {
     "name": "stdout",
     "output_type": "stream",
     "text": [
      "[1, 2, 3]\n"
     ]
    }
   ],
   "source": [
    "print(l[0:3])  # 0 <= i < 3 の要素を取り出す"
   ]
  },
  {
   "cell_type": "code",
   "execution_count": 11,
   "id": "4247bad2-c4fe-4541-bde4-391f1a3d9447",
   "metadata": {},
   "outputs": [
    {
     "name": "stdout",
     "output_type": "stream",
     "text": [
      "[1, 3, 1.5, [1, 2]]\n"
     ]
    }
   ],
   "source": [
    "print(l[0:8:2]) # step=2のインクリメントで、0 <= i < 8までの要素を取り出す。"
   ]
  },
  {
   "cell_type": "code",
   "execution_count": 12,
   "id": "4dce6304-703b-49d1-8a47-d81fc7047fdc",
   "metadata": {},
   "outputs": [
    {
     "name": "stdout",
     "output_type": "stream",
     "text": [
      "[1, 2, 3]\n",
      "[8, 1.5, 'word', [1, 2]]\n"
     ]
    }
   ],
   "source": [
    "print(l[:3])    # 最初から i < 3 まで\n",
    "print(l[3:])    # 3 <= i から最後まで"
   ]
  },
  {
   "cell_type": "code",
   "execution_count": 13,
   "id": "bd0d7f80-ab1b-43b5-b3c9-ce2d26870770",
   "metadata": {},
   "outputs": [
    {
     "name": "stdout",
     "output_type": "stream",
     "text": [
      "[1, 2]\n",
      "1.5\n",
      "[3, 'word']\n"
     ]
    }
   ],
   "source": [
    "#負のインデックスは末尾から数える。\n",
    "print(l[-1])\n",
    "print(l[-3])\n",
    "print(l[-5::3])"
   ]
  },
  {
   "cell_type": "code",
   "execution_count": 14,
   "id": "aa40b447-de81-4763-8498-3d7fe9b4c2b5",
   "metadata": {},
   "outputs": [
    {
     "name": "stdout",
     "output_type": "stream",
     "text": [
      "1\n",
      "2\n",
      "3\n",
      "8\n",
      "1.5\n",
      "word\n",
      "[1, 2]\n"
     ]
    }
   ],
   "source": [
    "#ループ方法1:インデックスを数える\n",
    "for i in range(len(l)):\n",
    "    print(l[i])"
   ]
  },
  {
   "cell_type": "code",
   "execution_count": 15,
   "id": "7e8d670d-6367-4b75-8963-0766e8af2dc9",
   "metadata": {},
   "outputs": [
    {
     "name": "stdout",
     "output_type": "stream",
     "text": [
      "1\n",
      "2\n",
      "3\n",
      "8\n",
      "1.5\n",
      "word\n",
      "[1, 2]\n"
     ]
    }
   ],
   "source": [
    "#ループ方法2:リストの要素に対してもループできる\n",
    "for x in l:\n",
    "    print(x)"
   ]
  },
  {
   "cell_type": "code",
   "execution_count": null,
   "id": "dde03d9c-835d-4942-91be-368e676a43ca",
   "metadata": {},
   "outputs": [],
   "source": []
  }
 ],
 "metadata": {
  "kernelspec": {
   "display_name": "Python 3 (ipykernel)",
   "language": "python",
   "name": "python3"
  },
  "language_info": {
   "codemirror_mode": {
    "name": "ipython",
    "version": 3
   },
   "file_extension": ".py",
   "mimetype": "text/x-python",
   "name": "python",
   "nbconvert_exporter": "python",
   "pygments_lexer": "ipython3",
   "version": "3.13.2"
  }
 },
 "nbformat": 4,
 "nbformat_minor": 5
}
