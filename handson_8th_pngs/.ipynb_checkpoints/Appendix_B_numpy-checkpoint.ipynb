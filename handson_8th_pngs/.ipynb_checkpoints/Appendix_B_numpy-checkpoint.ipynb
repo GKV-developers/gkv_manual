{
 "cells": [
  {
   "cell_type": "markdown",
   "metadata": {},
   "source": [
    "# 多次元配列の数値計算パッケージ NumPy"
   ]
  },
  {
   "cell_type": "code",
   "execution_count": 1,
   "metadata": {},
   "outputs": [],
   "source": [
    "import numpy as np"
   ]
  },
  {
   "cell_type": "markdown",
   "metadata": {},
   "source": [
    "## リストのNumPy配列への変換: np.array\n",
    "- np.array 関数により，リストをNumPy 配列に変換できる．この際，リストの各要素には同じ要素数\n",
    "の数値が入っている必要がある．\n",
    "- NumPy 配列の持つndim, shape, dtype などの変数により，配列の次元，形状，数値型(int64: 倍精度\n",
    "整数, float64: 倍精度実数) が確認できる．"
   ]
  },
  {
   "cell_type": "code",
   "execution_count": 2,
   "metadata": {},
   "outputs": [
    {
     "name": "stdout",
     "output_type": "stream",
     "text": [
      "<class 'numpy.ndarray'>\n",
      "[[1 2 3]\n",
      " [1 2 3]\n",
      " [4 5 6]\n",
      " [7 8 9]]\n",
      "2\n",
      "(4, 3)\n",
      "int64\n"
     ]
    }
   ],
   "source": [
    "a = np.array([1,2,3])\n",
    "b = np.array([[4,5,6],[7,8,9]])\n",
    "c = np.array([a,a,b[0,:],b[1,:]])\n",
    "print(type(c))\n",
    "print(c)\n",
    "print(c.ndim)  # Numpy配列の次元（軸の数）の確認\n",
    "print(c.shape) # Numpy配列の形状の確認\n",
    "print(c.dtype) # Numpy配列の数値型の確認"
   ]
  },
  {
   "cell_type": "code",
   "execution_count": 3,
   "metadata": {},
   "outputs": [
    {
     "ename": "ValueError",
     "evalue": "setting an array element with a sequence. The requested array has an inhomogeneous shape after 1 dimensions. The detected shape was (3,) + inhomogeneous part.",
     "output_type": "error",
     "traceback": [
      "\u001b[31m---------------------------------------------------------------------------\u001b[39m",
      "\u001b[31mValueError\u001b[39m                                Traceback (most recent call last)",
      "\u001b[36mCell\u001b[39m\u001b[36m \u001b[39m\u001b[32mIn[3]\u001b[39m\u001b[32m, line 3\u001b[39m\n\u001b[32m      1\u001b[39m \u001b[38;5;66;03m# リストの各要素の要素数が異なるなど、多次元配列の形になっていない場合は意図しない動作になる。\u001b[39;00m\n\u001b[32m      2\u001b[39m l_mismatch = [[\u001b[32m1\u001b[39m,\u001b[32m2\u001b[39m],[\u001b[32m3\u001b[39m,\u001b[32m4\u001b[39m],[\u001b[32m5\u001b[39m,\u001b[32m6\u001b[39m,\u001b[32m7\u001b[39m]]\n\u001b[32m----> \u001b[39m\u001b[32m3\u001b[39m a_mismatch=\u001b[43mnp\u001b[49m\u001b[43m.\u001b[49m\u001b[43marray\u001b[49m\u001b[43m(\u001b[49m\u001b[43ml_mismatch\u001b[49m\u001b[43m)\u001b[49m\n\u001b[32m      4\u001b[39m \u001b[38;5;28mprint\u001b[39m(\u001b[38;5;28mtype\u001b[39m(a_mismatch))\n\u001b[32m      5\u001b[39m \u001b[38;5;28mprint\u001b[39m(a_mismatch)\n",
      "\u001b[31mValueError\u001b[39m: setting an array element with a sequence. The requested array has an inhomogeneous shape after 1 dimensions. The detected shape was (3,) + inhomogeneous part."
     ]
    }
   ],
   "source": [
    "# リストの各要素の要素数が異なるなど、多次元配列の形になっていない場合は意図しない動作になる。\n",
    "l_mismatch = [[1,2],[3,4],[5,6,7]]\n",
    "a_mismatch=np.array(l_mismatch)\n",
    "print(type(a_mismatch))\n",
    "print(a_mismatch)\n",
    "print(a_mismatch.ndim)\n",
    "print(a_mismatch.shape)\n",
    "print(a_mismatch.dtype)"
   ]
  },
  {
   "cell_type": "markdown",
   "metadata": {},
   "source": [
    "## NumPy配列の生成\n",
    "- np.arange([start,] stop[, step]) の関数呼び出しで，start から始まり，step 刻みで増え，stop\n",
    "未満の等差数列を生成する．step は既定値1，start は既定値0 として省略可能．\n",
    "- np.linspace(start, stop, num) の関数呼び出しで，start から始まり，stop 以下のnum 点の等差\n",
    "数列が生成される．間隔は(stop-start)/(num-1) となり，終端点stop も含むことに注意．キーワー\n",
    "ド引数endpoint=False を指定すると，間隔(stop-start)/num で，終端点stop を除く等差数列が\n",
    "生成される．"
   ]
  },
  {
   "cell_type": "code",
   "execution_count": 4,
   "metadata": {},
   "outputs": [
    {
     "name": "stdout",
     "output_type": "stream",
     "text": [
      "[0 1 2 3 4 5 6 7 8 9]\n",
      "[0.         0.62831853 1.25663706 1.88495559 2.51327412 3.14159265\n",
      " 3.76991118 4.39822972 5.02654825 5.65486678]\n",
      "[0.         0.62831853 1.25663706 1.88495559 2.51327412 3.14159265\n",
      " 3.76991118 4.39822972 5.02654825 5.65486678 6.28318531]\n"
     ]
    }
   ],
   "source": [
    "i = np.arange(10)                     # 等差整数列の生成\n",
    "x = np.arange(0, 2*np.pi, 2*np.pi/10) # 等差実数列の生成1\n",
    "xl = np.linspace(0.0, 2*np.pi, 11)    # 等差実数列の生成2\n",
    "print(i)\n",
    "print(x)\n",
    "print(xl)"
   ]
  },
  {
   "cell_type": "code",
   "execution_count": 5,
   "metadata": {},
   "outputs": [
    {
     "data": {
      "text/plain": [
       "np.linalg\n",
       "np.linspace"
      ]
     },
     "metadata": {},
     "output_type": "display_data"
    }
   ],
   "source": [
    "#関数名の候補を表示する。※*?はjupyter特有の記法\n",
    "np.lin*?"
   ]
  },
  {
   "cell_type": "code",
   "execution_count": 6,
   "metadata": {},
   "outputs": [
    {
     "name": "stdout",
     "output_type": "stream",
     "text": [
      "Help on _ArrayFunctionDispatcher in module numpy:\n",
      "\n",
      "linspace(\n",
      "    start,\n",
      "    stop,\n",
      "    num=50,\n",
      "    endpoint=True,\n",
      "    retstep=False,\n",
      "    dtype=None,\n",
      "    axis=0,\n",
      "    *,\n",
      "    device=None\n",
      ")\n",
      "    Return evenly spaced numbers over a specified interval.\n",
      "\n",
      "    Returns `num` evenly spaced samples, calculated over the\n",
      "    interval [`start`, `stop`].\n",
      "\n",
      "    The endpoint of the interval can optionally be excluded.\n",
      "\n",
      "    .. versionchanged:: 1.20.0\n",
      "        Values are rounded towards ``-inf`` instead of ``0`` when an\n",
      "        integer ``dtype`` is specified. The old behavior can\n",
      "        still be obtained with ``np.linspace(start, stop, num).astype(int)``\n",
      "\n",
      "    Parameters\n",
      "    ----------\n",
      "    start : array_like\n",
      "        The starting value of the sequence.\n",
      "    stop : array_like\n",
      "        The end value of the sequence, unless `endpoint` is set to False.\n",
      "        In that case, the sequence consists of all but the last of ``num + 1``\n",
      "        evenly spaced samples, so that `stop` is excluded.  Note that the step\n",
      "        size changes when `endpoint` is False.\n",
      "    num : int, optional\n",
      "        Number of samples to generate. Default is 50. Must be non-negative.\n",
      "    endpoint : bool, optional\n",
      "        If True, `stop` is the last sample. Otherwise, it is not included.\n",
      "        Default is True.\n",
      "    retstep : bool, optional\n",
      "        If True, return (`samples`, `step`), where `step` is the spacing\n",
      "        between samples.\n",
      "    dtype : dtype, optional\n",
      "        The type of the output array.  If `dtype` is not given, the data type\n",
      "        is inferred from `start` and `stop`. The inferred dtype will never be\n",
      "        an integer; `float` is chosen even if the arguments would produce an\n",
      "        array of integers.\n",
      "    axis : int, optional\n",
      "        The axis in the result to store the samples.  Relevant only if start\n",
      "        or stop are array-like.  By default (0), the samples will be along a\n",
      "        new axis inserted at the beginning. Use -1 to get an axis at the end.\n",
      "    device : str, optional\n",
      "        The device on which to place the created array. Default: None.\n",
      "        For Array-API interoperability only, so must be ``\"cpu\"`` if passed.\n",
      "\n",
      "        .. versionadded:: 2.0.0\n",
      "\n",
      "    Returns\n",
      "    -------\n",
      "    samples : ndarray\n",
      "        There are `num` equally spaced samples in the closed interval\n",
      "        ``[start, stop]`` or the half-open interval ``[start, stop)``\n",
      "        (depending on whether `endpoint` is True or False).\n",
      "    step : float, optional\n",
      "        Only returned if `retstep` is True\n",
      "\n",
      "        Size of spacing between samples.\n",
      "\n",
      "\n",
      "    See Also\n",
      "    --------\n",
      "    arange : Similar to `linspace`, but uses a step size (instead of the\n",
      "             number of samples).\n",
      "    geomspace : Similar to `linspace`, but with numbers spaced evenly on a log\n",
      "                scale (a geometric progression).\n",
      "    logspace : Similar to `geomspace`, but with the end points specified as\n",
      "               logarithms.\n",
      "    :ref:`how-to-partition`\n",
      "\n",
      "    Examples\n",
      "    --------\n",
      "    >>> import numpy as np\n",
      "    >>> np.linspace(2.0, 3.0, num=5)\n",
      "    array([2.  , 2.25, 2.5 , 2.75, 3.  ])\n",
      "    >>> np.linspace(2.0, 3.0, num=5, endpoint=False)\n",
      "    array([2. ,  2.2,  2.4,  2.6,  2.8])\n",
      "    >>> np.linspace(2.0, 3.0, num=5, retstep=True)\n",
      "    (array([2.  ,  2.25,  2.5 ,  2.75,  3.  ]), 0.25)\n",
      "\n",
      "    Graphical illustration:\n",
      "\n",
      "    >>> import matplotlib.pyplot as plt\n",
      "    >>> N = 8\n",
      "    >>> y = np.zeros(N)\n",
      "    >>> x1 = np.linspace(0, 10, N, endpoint=True)\n",
      "    >>> x2 = np.linspace(0, 10, N, endpoint=False)\n",
      "    >>> plt.plot(x1, y, 'o')\n",
      "    [<matplotlib.lines.Line2D object at 0x...>]\n",
      "    >>> plt.plot(x2, y + 0.5, 'o')\n",
      "    [<matplotlib.lines.Line2D object at 0x...>]\n",
      "    >>> plt.ylim([-0.5, 1])\n",
      "    (-0.5, 1)\n",
      "    >>> plt.show()\n",
      "\n"
     ]
    }
   ],
   "source": [
    "#Numpyのヘルプを表示する。\n",
    "help(np.linspace)"
   ]
  },
  {
   "cell_type": "markdown",
   "metadata": {},
   "source": [
    "## NumPy配列の演算"
   ]
  },
  {
   "cell_type": "code",
   "execution_count": 7,
   "metadata": {},
   "outputs": [
    {
     "name": "stdout",
     "output_type": "stream",
     "text": [
      "[2 3 4 5]\n",
      "[ 2  4  8 16]\n",
      "[3 4 7 8]\n",
      "[ 2  4 12 16]\n"
     ]
    }
   ],
   "source": [
    "# 配列とスカラーの演算：要素ごとに行われる\n",
    "a=np.array([1,2,3,4])\n",
    "print(a+1)\n",
    "print(2**a)\n",
    "# 配列同士の演算：要素ごとに行われる\n",
    "b=np.array([2,2,4,4])\n",
    "print(a+b)\n",
    "print(a*b)"
   ]
  },
  {
   "cell_type": "code",
   "execution_count": 8,
   "metadata": {},
   "outputs": [
    {
     "name": "stdout",
     "output_type": "stream",
     "text": [
      "Elapsed time [sec] = 0.017141103744506836\n",
      "Elapsed time [sec] = 0.00045680999755859375\n",
      "[ True  True  True ...  True  True  True]\n"
     ]
    }
   ],
   "source": [
    "#PythonではForループを書かない方が計算が速い。\n",
    "from time import time as timer\n",
    "a=np.linspace(1,2,100000)\n",
    "b=np.linspace(2,4,100000)\n",
    "\n",
    "t1=timer()\n",
    "c1=np.zeros_like(a)\n",
    "for i in range(100000):\n",
    "    c1[i] = a[i]*b[i]\n",
    "t2=timer()\n",
    "print(\"Elapsed time [sec] =\",t2-t1)\n",
    "\n",
    "t1=timer()\n",
    "c2=a*b\n",
    "t2=timer()\n",
    "print(\"Elapsed time [sec] =\",t2-t1)\n",
    "\n",
    "print(c1==c2)"
   ]
  },
  {
   "cell_type": "markdown",
   "metadata": {},
   "source": [
    "## NumPy配列形状の変更"
   ]
  },
  {
   "cell_type": "code",
   "execution_count": 9,
   "metadata": {},
   "outputs": [
    {
     "name": "stdout",
     "output_type": "stream",
     "text": [
      "(24,)\n",
      "(2, 12)\n",
      "(3, 2, 4)\n",
      "(24,)\n"
     ]
    }
   ],
   "source": [
    "a=np.arange(24)    # aは 24 個の連続した値をもつ配列\n",
    "print(a.shape)\n",
    "a=a.reshape(2,12)  # reshapeで指定した配列形状へ変更: 12個の連続した値×2セット\n",
    "print(a.shape)\n",
    "a=a.reshape(3,2,4) # reshapeで指定した配列形状へ変更: (4個の連続した値×2セット)×3組\n",
    "print(a.shape)\n",
    "a=a.ravel()        # ravel: 1次元配列へ平坦化\n",
    "print(a.shape)"
   ]
  },
  {
   "cell_type": "markdown",
   "metadata": {},
   "source": [
    "### 多次元配列のメモリ上の連続性\n",
    "Q. 以下の2次元配列 a を1次元配列へ平坦化(ravel)すると、値の順序はどうなるか？"
   ]
  },
  {
   "cell_type": "code",
   "execution_count": 10,
   "metadata": {},
   "outputs": [
    {
     "name": "stdout",
     "output_type": "stream",
     "text": [
      "[[1 3]\n",
      " [2 4]]\n",
      "[1 3 2 4]\n"
     ]
    }
   ],
   "source": [
    "a = np.array([[1,3],[2,4]])\n",
    "print(a)\n",
    "print(a.ravel())"
   ]
  },
  {
   "cell_type": "markdown",
   "metadata": {},
   "source": [
    "## NumPy配列の総和・部分和\n",
    "- sum() 関数はNumPy 配列の全要素の和をとる．\n",
    "- 多次元配列の場合，キーワード引数axis を指定することで，指定した軸(左から順に，axis=0,1,2,...)\n",
    "のインデックスについての和をとる．d = a.sum(axis=(1,2)) の例の様に，和をとる軸を複数まとめ\n",
    "て指定することもできる．"
   ]
  },
  {
   "cell_type": "code",
   "execution_count": 11,
   "metadata": {},
   "outputs": [
    {
     "name": "stdout",
     "output_type": "stream",
     "text": [
      "[[[ 0  1  2  3]\n",
      "  [ 4  5  6  7]]\n",
      "\n",
      " [[ 8  9 10 11]\n",
      "  [12 13 14 15]]\n",
      "\n",
      " [[16 17 18 19]\n",
      "  [20 21 22 23]]]\n",
      "276\n",
      "(3, 2)\n",
      "(3,)\n"
     ]
    }
   ],
   "source": [
    "a = np.arange(24)\n",
    "a = a.reshape(3,2,4)\n",
    "b = a.sum()\n",
    "c = a.sum(axis=2)\n",
    "d = a.sum(axis=(1,2))\n",
    "print(a)\n",
    "print(b)\n",
    "print(c.shape)\n",
    "print(d.shape)"
   ]
  },
  {
   "cell_type": "markdown",
   "metadata": {},
   "source": [
    "## Numpy配列を利用した数値積分\n",
    "- np.trapz(y, x[, axis=-1]) 関数は，離散的にサンプリングされた座標を表わす配列x と各座標位置での値y を用いて，定積分\n",
    "$\\int^{\\max(x)}_{\\min(x)} y(x)dx$ を台形公式により数値積分する．\n",
    "- 多次元配列の場合，キーワード引数axis を指定することで，指定した軸について積分する．多変数関\n",
    "数y(x, t) の積分などで有用．"
   ]
  },
  {
   "cell_type": "code",
   "execution_count": 12,
   "metadata": {},
   "outputs": [
    {
     "name": "stdout",
     "output_type": "stream",
     "text": [
      "0.999999207508356\n",
      "Analytic solution: \\int_{-∞}^∞ exp(-x^2/2)/√2π = 1\n"
     ]
    }
   ],
   "source": [
    "x = np.linspace(-5,5,24)\n",
    "y = 1/np.sqrt(2*np.pi)*np.exp(-x**2/2)\n",
    "area = np.trapezoid(y,x=x,axis=-1)\n",
    "print(area)\n",
    "print(r\"Analytic solution: \\int_{-∞}^∞ exp(-x^2/2)/√2π = 1\")"
   ]
  },
  {
   "cell_type": "code",
   "execution_count": null,
   "metadata": {},
   "outputs": [],
   "source": []
  }
 ],
 "metadata": {
  "kernelspec": {
   "display_name": "Python 3 (ipykernel)",
   "language": "python",
   "name": "python3"
  },
  "language_info": {
   "codemirror_mode": {
    "name": "ipython",
    "version": 3
   },
   "file_extension": ".py",
   "mimetype": "text/x-python",
   "name": "python",
   "nbconvert_exporter": "python",
   "pygments_lexer": "ipython3",
   "version": "3.13.2"
  }
 },
 "nbformat": 4,
 "nbformat_minor": 4
}
